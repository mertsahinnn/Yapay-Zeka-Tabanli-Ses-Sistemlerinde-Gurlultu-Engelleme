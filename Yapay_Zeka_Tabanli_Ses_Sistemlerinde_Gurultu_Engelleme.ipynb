{
  "cells": [
    {
      "cell_type": "markdown",
      "metadata": {
        "id": "view-in-github",
        "colab_type": "text"
      },
      "source": [
        "<a href=\"https://colab.research.google.com/github/mertsahinnn/Yapay-Zeka-Tabanli-Ses-Sistemlerinde-Gurlultu-Engelleme/blob/master/Yapay_Zeka_Tabanli_Ses_Sistemlerinde_Gurultu_Engelleme.ipynb\" target=\"_parent\"><img src=\"https://colab.research.google.com/assets/colab-badge.svg\" alt=\"Open In Colab\"/></a>"
      ]
    },
    {
      "cell_type": "code",
      "execution_count": null,
      "metadata": {
        "id": "LQHLPoGeZStJ"
      },
      "outputs": [],
      "source": [
        "import kagglehub\n",
        "import shutil\n",
        "import os"
      ]
    },
    {
      "cell_type": "code",
      "source": [
        "# Google Drive'ı bağla\n",
        "from google.colab import drive\n",
        "drive.mount('/content/drive'),"
      ],
      "metadata": {
        "colab": {
          "base_uri": "https://localhost:8080/"
        },
        "id": "keoJTjDq78YC",
        "outputId": "fa3910de-ac8c-482e-a560-e2159c049966"
      },
      "execution_count": null,
      "outputs": [
        {
          "output_type": "stream",
          "name": "stdout",
          "text": [
            "Mounted at /content/drive\n"
          ]
        },
        {
          "output_type": "execute_result",
          "data": {
            "text/plain": [
              "(None,)"
            ]
          },
          "metadata": {},
          "execution_count": 2
        }
      ]
    },
    {
      "cell_type": "code",
      "execution_count": null,
      "metadata": {
        "colab": {
          "base_uri": "https://localhost:8080/"
        },
        "id": "nQahhXHp7UQ5",
        "outputId": "1430e300-51f2-404a-cd8f-ed6483968b69"
      },
      "outputs": [
        {
          "output_type": "stream",
          "name": "stdout",
          "text": [
            "Drive already mounted at /content/drive; to attempt to forcibly remount, call drive.mount(\"/content/drive\", force_remount=True).\n",
            "Veri seti Drive'a kaydedildi: /content/drive/MyDrive/turkish_corpus/turkish-speech-corpus/train\n"
          ]
        }
      ],
      "source": [
        "\"\"\"\n",
        "Kaggle'dan veri setilerini drive kaydetmek için aşağıdaki kodları çalıştırın.\n",
        "\n",
        "\"\"\"\n",
        "\n",
        "# Kaggle'dan veri setini indir\n",
        "path = kagglehub.dataset_download(\"truthisneverlinear/turkish-speech-corpus\")\n",
        "\n",
        "# Hedef klasör adını belirle\n",
        "dataset_name = \"turkish-speech-corpus/train\"\n",
        "destination_path_in_drive = os.path.join(\"/content/drive/MyDrive/turkish_corpus/\", dataset_name)\n",
        "\n",
        "# Google Drive'ı bağla\n",
        "from google.colab import drive\n",
        "drive.mount('/content/drive'),\n",
        "\n",
        "# Veri setini Drive'a kopyala\n",
        "# shutil.copytree(source, destination)\n",
        "# Eğer hedef klasör zaten varsa hata verir, bu yüzden önceden kontrol edip silebiliriz.\n",
        "if os.path.exists(destination_path_in_drive):\n",
        "    shutil.rmtree(destination_path_in_drive) # Dikkat: Hedef klasörü ve içeriğini siler!\n",
        "\n",
        "shutil.copytree(\"/root/.cache/kagglehub/datasets/truthisneverlinear/turkish-speech-corpus/versions/1/ISSAI_TSC_218/Train\", destination_path_in_drive)\n",
        "\n",
        "print(f\"Veri seti Drive'a kaydedildi: {destination_path_in_drive}\")"
      ]
    },
    {
      "cell_type": "markdown",
      "metadata": {
        "id": "DOi1P24FZWQr"
      },
      "source": []
    },
    {
      "cell_type": "code",
      "execution_count": null,
      "metadata": {
        "colab": {
          "base_uri": "https://localhost:8080/"
        },
        "id": "7zhQn6LRdLbn",
        "outputId": "9c0eb030-28a4-475a-b8d2-086d4a29c1a6"
      },
      "outputs": [
        {
          "output_type": "stream",
          "name": "stdout",
          "text": [
            "--- '/content/drive/MyDrive/turkish_corpus/turkish-speech-corpus/' Klasöründeki Ses Dosyalarını Analiz Ediliyor ---\n"
          ]
        }
      ],
      "source": [
        "import librosa\n",
        "import librosa.display\n",
        "import matplotlib.pyplot as plt\n",
        "import numpy as np\n",
        "import pandas as pd\n",
        "import os\n",
        "import random\n",
        "\n",
        "def summarize_audio_dataset(folder_path, num_samples_to_plot=3):\n",
        "    \"\"\"\n",
        "    Belirtilen klasördeki tüm ses dosyalarını tarar, genel bir özet çıkarır\n",
        "    ve rastgele seçilen bazı dosyaların dalga formu ile spektrogramını çizer.\n",
        "\n",
        "    Args:\n",
        "        folder_path (str): Ses dosyalarının bulunduğu klasörün yolu.\n",
        "        num_samples_to_plot (int): Dalga formu ve spektrogramı çizilecek rastgele dosya sayısı.\n",
        "    \"\"\"\n",
        "    if not os.path.isdir(folder_path):\n",
        "        print(f\"Hata: Klasör bulunamadı - {folder_path}\")\n",
        "        return\n",
        "\n",
        "    print(f\"--- '{folder_path}' Klasöründeki Ses Dosyalarını Analiz Ediliyor ---\")\n",
        "\n",
        "    audio_data = []\n",
        "    supported_extensions = ['.wav', '.mp3', '.flac', '.ogg'] # Desteklenen ses formatları\n",
        "\n",
        "    file_paths = []\n",
        "    for root, _, files in os.walk(folder_path):\n",
        "        for file in files:\n",
        "            if any(file.lower().endswith(ext) for ext in supported_extensions):\n",
        "                file_paths.append(os.path.join(root, file))\n",
        "\n",
        "    if not file_paths:\n",
        "        print(\"Belirtilen klasörde veya alt klasörlerinde desteklenen ses dosyası bulunamadı.\")\n",
        "        return\n",
        "\n",
        "    total_files = len(file_paths)\n",
        "    print(f\"Toplam {total_files} ses dosyası bulundu.\")\n",
        "\n",
        "    # Her bir dosya için bilgi topla\n",
        "    for i, file_path in enumerate(file_paths):\n",
        "        print(f\"İşleniyor: {os.path.basename(file_path)} ({i+1}/{total_files})\")\n",
        "        try:\n",
        "            y, sr = librosa.load(file_path, sr=None)\n",
        "\n",
        "            duration = librosa.get_duration(y=y, sr=sr)\n",
        "            max_amplitude = np.max(np.abs(y))\n",
        "            num_channels = y.shape[0] if len(y.shape) > 1 else 1 # Stereo mu mono mu kontrolü\n",
        "\n",
        "            audio_data.append({\n",
        "                'Dosya Adı': os.path.basename(file_path),\n",
        "                'Yol': file_path,\n",
        "                'Süre (sn)': duration,\n",
        "                'Örnekleme Hızı (Hz)': sr,\n",
        "                'Kanal Sayısı': num_channels,\n",
        "                'Maksimum Genlik': max_amplitude\n",
        "            })\n",
        "        except Exception as e:\n",
        "            print(f\"Hata: '{os.path.basename(file_path)}' dosyası işlenirken bir sorun oluştu: {e}\")\n",
        "            audio_data.append({\n",
        "                'Dosya Adı': os.path.basename(file_path),\n",
        "                'Yol': file_path,\n",
        "                'Süre (sn)': np.nan,\n",
        "                'Örnekleme Hızı (Hz)': np.nan,\n",
        "                'Kanal Sayısı': np.nan,\n",
        "                'Maksimum Genlik': np.nan,\n",
        "                'Hata': str(e)\n",
        "            })\n",
        "\n",
        "    # Verileri DataFrame'e dönüştür\n",
        "    df = pd.DataFrame(audio_data)\n",
        "\n",
        "    print(\"\\n--- Genel Veri Seti Özeti ---\")\n",
        "    print(df.describe()) # Sayısal sütunların istatistiksel özetini göster\n",
        "\n",
        "    print(\"\\n--- Örnekleme Hızı Dağılımı ---\")\n",
        "    print(df['Örnekleme Hızı (Hz)'].value_counts())\n",
        "\n",
        "    print(\"\\n--- Kanal Sayısı Dağılımı ---\")\n",
        "    print(df['Kanal Sayısı'].value_counts())\n",
        "\n",
        "    print(f\"\\nToplam ses süresi: {df['Süre (sn)'].sum():.2f} saniye (~{df['Süre (sn)'].sum()/3600:.2f} saat)\")\n",
        "\n",
        "    # Eksik/hatalı dosya kontrolü\n",
        "    if df['Süre (sn)'].isnull().any():\n",
        "        print(\"\\n--- Hata veya Eksik Veri İçeren Dosyalar ---\")\n",
        "        print(df[df['Süre (sn)'].isnull()])\n",
        "\n",
        "\n",
        "    # Rastgele seçilen dosyalardan görselleştirme\n",
        "    print(f\"\\n--- Rastgele Seçilen {min(num_samples_to_plot, total_files)} Örnek Dosya Görselleştirmesi ---\")\n",
        "\n",
        "    # Hata içermeyen dosyalar arasından seçim yap\n",
        "    successful_files = df.dropna(subset=['Süre (sn)'])\n",
        "    if not successful_files.empty:\n",
        "        samples_to_plot = successful_files['Yol'].sample(min(num_samples_to_plot, len(successful_files))).tolist()\n",
        "\n",
        "        for file_path in samples_to_plot:\n",
        "            try:\n",
        "                y, sr = librosa.load(file_path, sr=None) # Tamamı yüklendi\n",
        "                plt.figure(figsize=(12, 6))\n",
        "\n",
        "                plt.subplot(2, 1, 1)\n",
        "                librosa.display.waveshow(y, sr=sr)\n",
        "                plt.title(f'{os.path.basename(file_path)} Dalga Formu')\n",
        "                plt.xlabel('Zaman (saniye)')\n",
        "                plt.ylabel('Genlik')\n",
        "                plt.grid(True)\n",
        "\n",
        "                D = librosa.amplitude_to_db(np.abs(librosa.stft(y)), ref=np.max)\n",
        "                plt.subplot(2, 1, 2)\n",
        "                librosa.display.specshow(D, sr=sr, x_axis='time', y_axis='log')\n",
        "                plt.colorbar(format='%+2.0f dB')\n",
        "                plt.title(f'{os.path.basename(file_path)} Spektrogramı')\n",
        "                plt.xlabel('Zaman (saniye)')\n",
        "                plt.ylabel('Frekans (Hz)')\n",
        "                plt.tight_layout()\n",
        "                plt.show()\n",
        "\n",
        "            except Exception as e:\n",
        "                print(f\"Görselleştirme sırasında hata: '{os.path.basename(file_path)}' - {e}\")\n",
        "    else:\n",
        "        print(\"Görselleştirilecek uygun dosya bulunamadı (tüm dosyalar hatalı olabilir).\")\n",
        "\n",
        "\n",
        "# --- Kullanım Örneği ---\n",
        "if __name__ == \"__main__\":\n",
        "\n",
        "\n",
        "    # !!! BURAYI KENDİ VERİ KÜMENİZİN OLDUĞU KLASÖR YOLU İLE DEĞİŞTİRİN !!!\n",
        "    your_audio_dataset_folder = \"/content/drive/MyDrive/turkish_corpus/turkish-speech-corpus/\"\n",
        "\n",
        "\n",
        "    summarize_audio_dataset(your_audio_dataset_folder, num_samples_to_plot=3)"
      ]
    }
  ],
  "metadata": {
    "colab": {
      "provenance": [],
      "gpuType": "V28",
      "authorship_tag": "ABX9TyPduXIu3+54Piz1tSumG6En",
      "include_colab_link": true
    },
    "kernelspec": {
      "display_name": "Python 3",
      "name": "python3"
    },
    "language_info": {
      "name": "python"
    },
    "accelerator": "TPU"
  },
  "nbformat": 4,
  "nbformat_minor": 0
}